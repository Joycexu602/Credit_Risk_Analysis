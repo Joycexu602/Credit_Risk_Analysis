{
  "nbformat": 4,
  "nbformat_minor": 0,
  "metadata": {
    "colab": {
      "provenance": [],
      "authorship_tag": "ABX9TyMfnisc+iziMMZBaYW5ZwkO",
      "include_colab_link": true
    },
    "kernelspec": {
      "name": "python3",
      "display_name": "Python 3"
    },
    "language_info": {
      "name": "python"
    }
  },
  "cells": [
    {
      "cell_type": "markdown",
      "metadata": {
        "id": "view-in-github",
        "colab_type": "text"
      },
      "source": [
        "<a href=\"https://colab.research.google.com/github/Joycexu602/Credit_Risk_Analysis/blob/main/657_inclass_4.ipynb\" target=\"_parent\"><img src=\"https://colab.research.google.com/assets/colab-badge.svg\" alt=\"Open In Colab\"/></a>"
      ]
    },
    {
      "cell_type": "markdown",
      "source": [
        "# Set-Up and Load Data"
      ],
      "metadata": {
        "id": "hVdJQt_eQJgL"
      }
    },
    {
      "cell_type": "code",
      "execution_count": 4,
      "metadata": {
        "id": "iW082euYP1Bu"
      },
      "outputs": [],
      "source": [
        "import pandas as pd\n",
        "import numpy as np\n",
        "import math\n",
        "import tensorflow as tf\n",
        "import keras\n",
        "from keras.models import Model\n",
        "from keras.layers import Input\n",
        "from keras.layers import Dense\n",
        "from sklearn import metrics\n",
        "from keras.layers import Embedding\n",
        "from keras.layers import concatenate\n",
        "from keras.layers import Reshape"
      ]
    },
    {
      "cell_type": "code",
      "source": [
        "dat = pd.read_csv(\"HealthData.txt\", sep=\" \")\n",
        "dat.head()"
      ],
      "metadata": {
        "colab": {
          "base_uri": "https://localhost:8080/",
          "height": 201
        },
        "id": "WEtEVcHpQOk5",
        "outputId": "a8663944-9edd-4761-a1a7-2f7a47a74b23"
      },
      "execution_count": 5,
      "outputs": [
        {
          "output_type": "execute_result",
          "data": {
            "text/plain": [
              "   year  age  female  race  married  edu  income  msa  region  limitation  \\\n",
              "0  2010   28       0     1        1   14   67000    1       1           0   \n",
              "1  2010   25       1     1        1   14   67000    1       1           0   \n",
              "2  2010   51       0     6        1   17   91420    1       4           0   \n",
              "3  2010   53       1     4        1   17   91420    1       4           0   \n",
              "4  2010   33       0     1        1   12   19500    1       3           0   \n",
              "\n",
              "   chronic  smoke  industry  occupation  uninsured  erexp  ernum  \n",
              "0        3      0         6           7          0      0      0  \n",
              "1        1      0        -1          -1          0      0      0  \n",
              "2        0      0        10           2          0      0      0  \n",
              "3        0      0        10           2          0      0      0  \n",
              "4        0      1        11           7          1      0      0  "
            ],
            "text/html": [
              "\n",
              "  <div id=\"df-7264a0d7-9834-4dc2-8bc1-ad17ca4f178d\" class=\"colab-df-container\">\n",
              "    <div>\n",
              "<style scoped>\n",
              "    .dataframe tbody tr th:only-of-type {\n",
              "        vertical-align: middle;\n",
              "    }\n",
              "\n",
              "    .dataframe tbody tr th {\n",
              "        vertical-align: top;\n",
              "    }\n",
              "\n",
              "    .dataframe thead th {\n",
              "        text-align: right;\n",
              "    }\n",
              "</style>\n",
              "<table border=\"1\" class=\"dataframe\">\n",
              "  <thead>\n",
              "    <tr style=\"text-align: right;\">\n",
              "      <th></th>\n",
              "      <th>year</th>\n",
              "      <th>age</th>\n",
              "      <th>female</th>\n",
              "      <th>race</th>\n",
              "      <th>married</th>\n",
              "      <th>edu</th>\n",
              "      <th>income</th>\n",
              "      <th>msa</th>\n",
              "      <th>region</th>\n",
              "      <th>limitation</th>\n",
              "      <th>chronic</th>\n",
              "      <th>smoke</th>\n",
              "      <th>industry</th>\n",
              "      <th>occupation</th>\n",
              "      <th>uninsured</th>\n",
              "      <th>erexp</th>\n",
              "      <th>ernum</th>\n",
              "    </tr>\n",
              "  </thead>\n",
              "  <tbody>\n",
              "    <tr>\n",
              "      <th>0</th>\n",
              "      <td>2010</td>\n",
              "      <td>28</td>\n",
              "      <td>0</td>\n",
              "      <td>1</td>\n",
              "      <td>1</td>\n",
              "      <td>14</td>\n",
              "      <td>67000</td>\n",
              "      <td>1</td>\n",
              "      <td>1</td>\n",
              "      <td>0</td>\n",
              "      <td>3</td>\n",
              "      <td>0</td>\n",
              "      <td>6</td>\n",
              "      <td>7</td>\n",
              "      <td>0</td>\n",
              "      <td>0</td>\n",
              "      <td>0</td>\n",
              "    </tr>\n",
              "    <tr>\n",
              "      <th>1</th>\n",
              "      <td>2010</td>\n",
              "      <td>25</td>\n",
              "      <td>1</td>\n",
              "      <td>1</td>\n",
              "      <td>1</td>\n",
              "      <td>14</td>\n",
              "      <td>67000</td>\n",
              "      <td>1</td>\n",
              "      <td>1</td>\n",
              "      <td>0</td>\n",
              "      <td>1</td>\n",
              "      <td>0</td>\n",
              "      <td>-1</td>\n",
              "      <td>-1</td>\n",
              "      <td>0</td>\n",
              "      <td>0</td>\n",
              "      <td>0</td>\n",
              "    </tr>\n",
              "    <tr>\n",
              "      <th>2</th>\n",
              "      <td>2010</td>\n",
              "      <td>51</td>\n",
              "      <td>0</td>\n",
              "      <td>6</td>\n",
              "      <td>1</td>\n",
              "      <td>17</td>\n",
              "      <td>91420</td>\n",
              "      <td>1</td>\n",
              "      <td>4</td>\n",
              "      <td>0</td>\n",
              "      <td>0</td>\n",
              "      <td>0</td>\n",
              "      <td>10</td>\n",
              "      <td>2</td>\n",
              "      <td>0</td>\n",
              "      <td>0</td>\n",
              "      <td>0</td>\n",
              "    </tr>\n",
              "    <tr>\n",
              "      <th>3</th>\n",
              "      <td>2010</td>\n",
              "      <td>53</td>\n",
              "      <td>1</td>\n",
              "      <td>4</td>\n",
              "      <td>1</td>\n",
              "      <td>17</td>\n",
              "      <td>91420</td>\n",
              "      <td>1</td>\n",
              "      <td>4</td>\n",
              "      <td>0</td>\n",
              "      <td>0</td>\n",
              "      <td>0</td>\n",
              "      <td>10</td>\n",
              "      <td>2</td>\n",
              "      <td>0</td>\n",
              "      <td>0</td>\n",
              "      <td>0</td>\n",
              "    </tr>\n",
              "    <tr>\n",
              "      <th>4</th>\n",
              "      <td>2010</td>\n",
              "      <td>33</td>\n",
              "      <td>0</td>\n",
              "      <td>1</td>\n",
              "      <td>1</td>\n",
              "      <td>12</td>\n",
              "      <td>19500</td>\n",
              "      <td>1</td>\n",
              "      <td>3</td>\n",
              "      <td>0</td>\n",
              "      <td>0</td>\n",
              "      <td>1</td>\n",
              "      <td>11</td>\n",
              "      <td>7</td>\n",
              "      <td>1</td>\n",
              "      <td>0</td>\n",
              "      <td>0</td>\n",
              "    </tr>\n",
              "  </tbody>\n",
              "</table>\n",
              "</div>\n",
              "    <div class=\"colab-df-buttons\">\n",
              "\n",
              "  <div class=\"colab-df-container\">\n",
              "    <button class=\"colab-df-convert\" onclick=\"convertToInteractive('df-7264a0d7-9834-4dc2-8bc1-ad17ca4f178d')\"\n",
              "            title=\"Convert this dataframe to an interactive table.\"\n",
              "            style=\"display:none;\">\n",
              "\n",
              "  <svg xmlns=\"http://www.w3.org/2000/svg\" height=\"24px\" viewBox=\"0 -960 960 960\">\n",
              "    <path d=\"M120-120v-720h720v720H120Zm60-500h600v-160H180v160Zm220 220h160v-160H400v160Zm0 220h160v-160H400v160ZM180-400h160v-160H180v160Zm440 0h160v-160H620v160ZM180-180h160v-160H180v160Zm440 0h160v-160H620v160Z\"/>\n",
              "  </svg>\n",
              "    </button>\n",
              "\n",
              "  <style>\n",
              "    .colab-df-container {\n",
              "      display:flex;\n",
              "      gap: 12px;\n",
              "    }\n",
              "\n",
              "    .colab-df-convert {\n",
              "      background-color: #E8F0FE;\n",
              "      border: none;\n",
              "      border-radius: 50%;\n",
              "      cursor: pointer;\n",
              "      display: none;\n",
              "      fill: #1967D2;\n",
              "      height: 32px;\n",
              "      padding: 0 0 0 0;\n",
              "      width: 32px;\n",
              "    }\n",
              "\n",
              "    .colab-df-convert:hover {\n",
              "      background-color: #E2EBFA;\n",
              "      box-shadow: 0px 1px 2px rgba(60, 64, 67, 0.3), 0px 1px 3px 1px rgba(60, 64, 67, 0.15);\n",
              "      fill: #174EA6;\n",
              "    }\n",
              "\n",
              "    .colab-df-buttons div {\n",
              "      margin-bottom: 4px;\n",
              "    }\n",
              "\n",
              "    [theme=dark] .colab-df-convert {\n",
              "      background-color: #3B4455;\n",
              "      fill: #D2E3FC;\n",
              "    }\n",
              "\n",
              "    [theme=dark] .colab-df-convert:hover {\n",
              "      background-color: #434B5C;\n",
              "      box-shadow: 0px 1px 3px 1px rgba(0, 0, 0, 0.15);\n",
              "      filter: drop-shadow(0px 1px 2px rgba(0, 0, 0, 0.3));\n",
              "      fill: #FFFFFF;\n",
              "    }\n",
              "  </style>\n",
              "\n",
              "    <script>\n",
              "      const buttonEl =\n",
              "        document.querySelector('#df-7264a0d7-9834-4dc2-8bc1-ad17ca4f178d button.colab-df-convert');\n",
              "      buttonEl.style.display =\n",
              "        google.colab.kernel.accessAllowed ? 'block' : 'none';\n",
              "\n",
              "      async function convertToInteractive(key) {\n",
              "        const element = document.querySelector('#df-7264a0d7-9834-4dc2-8bc1-ad17ca4f178d');\n",
              "        const dataTable =\n",
              "          await google.colab.kernel.invokeFunction('convertToInteractive',\n",
              "                                                    [key], {});\n",
              "        if (!dataTable) return;\n",
              "\n",
              "        const docLinkHtml = 'Like what you see? Visit the ' +\n",
              "          '<a target=\"_blank\" href=https://colab.research.google.com/notebooks/data_table.ipynb>data table notebook</a>'\n",
              "          + ' to learn more about interactive tables.';\n",
              "        element.innerHTML = '';\n",
              "        dataTable['output_type'] = 'display_data';\n",
              "        await google.colab.output.renderOutput(dataTable, element);\n",
              "        const docLink = document.createElement('div');\n",
              "        docLink.innerHTML = docLinkHtml;\n",
              "        element.appendChild(docLink);\n",
              "      }\n",
              "    </script>\n",
              "  </div>\n",
              "\n",
              "\n",
              "<div id=\"df-fb7dbc58-9099-4627-aef7-cf90791eb054\">\n",
              "  <button class=\"colab-df-quickchart\" onclick=\"quickchart('df-fb7dbc58-9099-4627-aef7-cf90791eb054')\"\n",
              "            title=\"Suggest charts\"\n",
              "            style=\"display:none;\">\n",
              "\n",
              "<svg xmlns=\"http://www.w3.org/2000/svg\" height=\"24px\"viewBox=\"0 0 24 24\"\n",
              "     width=\"24px\">\n",
              "    <g>\n",
              "        <path d=\"M19 3H5c-1.1 0-2 .9-2 2v14c0 1.1.9 2 2 2h14c1.1 0 2-.9 2-2V5c0-1.1-.9-2-2-2zM9 17H7v-7h2v7zm4 0h-2V7h2v10zm4 0h-2v-4h2v4z\"/>\n",
              "    </g>\n",
              "</svg>\n",
              "  </button>\n",
              "\n",
              "<style>\n",
              "  .colab-df-quickchart {\n",
              "      --bg-color: #E8F0FE;\n",
              "      --fill-color: #1967D2;\n",
              "      --hover-bg-color: #E2EBFA;\n",
              "      --hover-fill-color: #174EA6;\n",
              "      --disabled-fill-color: #AAA;\n",
              "      --disabled-bg-color: #DDD;\n",
              "  }\n",
              "\n",
              "  [theme=dark] .colab-df-quickchart {\n",
              "      --bg-color: #3B4455;\n",
              "      --fill-color: #D2E3FC;\n",
              "      --hover-bg-color: #434B5C;\n",
              "      --hover-fill-color: #FFFFFF;\n",
              "      --disabled-bg-color: #3B4455;\n",
              "      --disabled-fill-color: #666;\n",
              "  }\n",
              "\n",
              "  .colab-df-quickchart {\n",
              "    background-color: var(--bg-color);\n",
              "    border: none;\n",
              "    border-radius: 50%;\n",
              "    cursor: pointer;\n",
              "    display: none;\n",
              "    fill: var(--fill-color);\n",
              "    height: 32px;\n",
              "    padding: 0;\n",
              "    width: 32px;\n",
              "  }\n",
              "\n",
              "  .colab-df-quickchart:hover {\n",
              "    background-color: var(--hover-bg-color);\n",
              "    box-shadow: 0 1px 2px rgba(60, 64, 67, 0.3), 0 1px 3px 1px rgba(60, 64, 67, 0.15);\n",
              "    fill: var(--button-hover-fill-color);\n",
              "  }\n",
              "\n",
              "  .colab-df-quickchart-complete:disabled,\n",
              "  .colab-df-quickchart-complete:disabled:hover {\n",
              "    background-color: var(--disabled-bg-color);\n",
              "    fill: var(--disabled-fill-color);\n",
              "    box-shadow: none;\n",
              "  }\n",
              "\n",
              "  .colab-df-spinner {\n",
              "    border: 2px solid var(--fill-color);\n",
              "    border-color: transparent;\n",
              "    border-bottom-color: var(--fill-color);\n",
              "    animation:\n",
              "      spin 1s steps(1) infinite;\n",
              "  }\n",
              "\n",
              "  @keyframes spin {\n",
              "    0% {\n",
              "      border-color: transparent;\n",
              "      border-bottom-color: var(--fill-color);\n",
              "      border-left-color: var(--fill-color);\n",
              "    }\n",
              "    20% {\n",
              "      border-color: transparent;\n",
              "      border-left-color: var(--fill-color);\n",
              "      border-top-color: var(--fill-color);\n",
              "    }\n",
              "    30% {\n",
              "      border-color: transparent;\n",
              "      border-left-color: var(--fill-color);\n",
              "      border-top-color: var(--fill-color);\n",
              "      border-right-color: var(--fill-color);\n",
              "    }\n",
              "    40% {\n",
              "      border-color: transparent;\n",
              "      border-right-color: var(--fill-color);\n",
              "      border-top-color: var(--fill-color);\n",
              "    }\n",
              "    60% {\n",
              "      border-color: transparent;\n",
              "      border-right-color: var(--fill-color);\n",
              "    }\n",
              "    80% {\n",
              "      border-color: transparent;\n",
              "      border-right-color: var(--fill-color);\n",
              "      border-bottom-color: var(--fill-color);\n",
              "    }\n",
              "    90% {\n",
              "      border-color: transparent;\n",
              "      border-bottom-color: var(--fill-color);\n",
              "    }\n",
              "  }\n",
              "</style>\n",
              "\n",
              "  <script>\n",
              "    async function quickchart(key) {\n",
              "      const quickchartButtonEl =\n",
              "        document.querySelector('#' + key + ' button');\n",
              "      quickchartButtonEl.disabled = true;  // To prevent multiple clicks.\n",
              "      quickchartButtonEl.classList.add('colab-df-spinner');\n",
              "      try {\n",
              "        const charts = await google.colab.kernel.invokeFunction(\n",
              "            'suggestCharts', [key], {});\n",
              "      } catch (error) {\n",
              "        console.error('Error during call to suggestCharts:', error);\n",
              "      }\n",
              "      quickchartButtonEl.classList.remove('colab-df-spinner');\n",
              "      quickchartButtonEl.classList.add('colab-df-quickchart-complete');\n",
              "    }\n",
              "    (() => {\n",
              "      let quickchartButtonEl =\n",
              "        document.querySelector('#df-fb7dbc58-9099-4627-aef7-cf90791eb054 button');\n",
              "      quickchartButtonEl.style.display =\n",
              "        google.colab.kernel.accessAllowed ? 'block' : 'none';\n",
              "    })();\n",
              "  </script>\n",
              "</div>\n",
              "    </div>\n",
              "  </div>\n"
            ],
            "application/vnd.google.colaboratory.intrinsic+json": {
              "type": "dataframe",
              "variable_name": "dat",
              "summary": "{\n  \"name\": \"dat\",\n  \"rows\": 36981,\n  \"fields\": [\n    {\n      \"column\": \"year\",\n      \"properties\": {\n        \"dtype\": \"number\",\n        \"std\": 0,\n        \"min\": 2010,\n        \"max\": 2011,\n        \"num_unique_values\": 2,\n        \"samples\": [\n          2011,\n          2010\n        ],\n        \"semantic_type\": \"\",\n        \"description\": \"\"\n      }\n    },\n    {\n      \"column\": \"age\",\n      \"properties\": {\n        \"dtype\": \"number\",\n        \"std\": 13,\n        \"min\": 18,\n        \"max\": 64,\n        \"num_unique_values\": 47,\n        \"samples\": [\n          41,\n          40\n        ],\n        \"semantic_type\": \"\",\n        \"description\": \"\"\n      }\n    },\n    {\n      \"column\": \"female\",\n      \"properties\": {\n        \"dtype\": \"number\",\n        \"std\": 0,\n        \"min\": 0,\n        \"max\": 1,\n        \"num_unique_values\": 2,\n        \"samples\": [\n          1,\n          0\n        ],\n        \"semantic_type\": \"\",\n        \"description\": \"\"\n      }\n    },\n    {\n      \"column\": \"race\",\n      \"properties\": {\n        \"dtype\": \"number\",\n        \"std\": 1,\n        \"min\": 1,\n        \"max\": 6,\n        \"num_unique_values\": 6,\n        \"samples\": [\n          1,\n          6\n        ],\n        \"semantic_type\": \"\",\n        \"description\": \"\"\n      }\n    },\n    {\n      \"column\": \"married\",\n      \"properties\": {\n        \"dtype\": \"number\",\n        \"std\": 0,\n        \"min\": 0,\n        \"max\": 1,\n        \"num_unique_values\": 2,\n        \"samples\": [\n          0,\n          1\n        ],\n        \"semantic_type\": \"\",\n        \"description\": \"\"\n      }\n    },\n    {\n      \"column\": \"edu\",\n      \"properties\": {\n        \"dtype\": \"number\",\n        \"std\": 2,\n        \"min\": 0,\n        \"max\": 17,\n        \"num_unique_values\": 18,\n        \"samples\": [\n          14,\n          17\n        ],\n        \"semantic_type\": \"\",\n        \"description\": \"\"\n      }\n    },\n    {\n      \"column\": \"income\",\n      \"properties\": {\n        \"dtype\": \"number\",\n        \"std\": 53755,\n        \"min\": 5,\n        \"max\": 462118,\n        \"num_unique_values\": 11908,\n        \"samples\": [\n          33136,\n          48723\n        ],\n        \"semantic_type\": \"\",\n        \"description\": \"\"\n      }\n    },\n    {\n      \"column\": \"msa\",\n      \"properties\": {\n        \"dtype\": \"number\",\n        \"std\": 0,\n        \"min\": 0,\n        \"max\": 1,\n        \"num_unique_values\": 2,\n        \"samples\": [\n          0,\n          1\n        ],\n        \"semantic_type\": \"\",\n        \"description\": \"\"\n      }\n    },\n    {\n      \"column\": \"region\",\n      \"properties\": {\n        \"dtype\": \"number\",\n        \"std\": 1,\n        \"min\": 1,\n        \"max\": 4,\n        \"num_unique_values\": 4,\n        \"samples\": [\n          4,\n          2\n        ],\n        \"semantic_type\": \"\",\n        \"description\": \"\"\n      }\n    },\n    {\n      \"column\": \"limitation\",\n      \"properties\": {\n        \"dtype\": \"number\",\n        \"std\": 0,\n        \"min\": 0,\n        \"max\": 1,\n        \"num_unique_values\": 2,\n        \"samples\": [\n          1,\n          0\n        ],\n        \"semantic_type\": \"\",\n        \"description\": \"\"\n      }\n    },\n    {\n      \"column\": \"chronic\",\n      \"properties\": {\n        \"dtype\": \"number\",\n        \"std\": 1,\n        \"min\": 0,\n        \"max\": 14,\n        \"num_unique_values\": 15,\n        \"samples\": [\n          12,\n          9\n        ],\n        \"semantic_type\": \"\",\n        \"description\": \"\"\n      }\n    },\n    {\n      \"column\": \"smoke\",\n      \"properties\": {\n        \"dtype\": \"number\",\n        \"std\": 0,\n        \"min\": 0,\n        \"max\": 1,\n        \"num_unique_values\": 2,\n        \"samples\": [\n          1,\n          0\n        ],\n        \"semantic_type\": \"\",\n        \"description\": \"\"\n      }\n    },\n    {\n      \"column\": \"industry\",\n      \"properties\": {\n        \"dtype\": \"number\",\n        \"std\": 4,\n        \"min\": -1,\n        \"max\": 15,\n        \"num_unique_values\": 16,\n        \"samples\": [\n          6,\n          -1\n        ],\n        \"semantic_type\": \"\",\n        \"description\": \"\"\n      }\n    },\n    {\n      \"column\": \"occupation\",\n      \"properties\": {\n        \"dtype\": \"number\",\n        \"std\": 3,\n        \"min\": -1,\n        \"max\": 11,\n        \"num_unique_values\": 11,\n        \"samples\": [\n          9,\n          7\n        ],\n        \"semantic_type\": \"\",\n        \"description\": \"\"\n      }\n    },\n    {\n      \"column\": \"uninsured\",\n      \"properties\": {\n        \"dtype\": \"number\",\n        \"std\": 0,\n        \"min\": 0,\n        \"max\": 1,\n        \"num_unique_values\": 2,\n        \"samples\": [\n          1,\n          0\n        ],\n        \"semantic_type\": \"\",\n        \"description\": \"\"\n      }\n    },\n    {\n      \"column\": \"erexp\",\n      \"properties\": {\n        \"dtype\": \"number\",\n        \"std\": 1046,\n        \"min\": 0,\n        \"max\": 56091,\n        \"num_unique_values\": 2059,\n        \"samples\": [\n          2342,\n          363\n        ],\n        \"semantic_type\": \"\",\n        \"description\": \"\"\n      }\n    },\n    {\n      \"column\": \"ernum\",\n      \"properties\": {\n        \"dtype\": \"number\",\n        \"std\": 0,\n        \"min\": 0,\n        \"max\": 22,\n        \"num_unique_values\": 15,\n        \"samples\": [\n          9,\n          18\n        ],\n        \"semantic_type\": \"\",\n        \"description\": \"\"\n      }\n    }\n  ]\n}"
            }
          },
          "metadata": {},
          "execution_count": 5
        }
      ]
    },
    {
      "cell_type": "markdown",
      "source": [
        "# **Question 1**\n",
        "\n",
        "**Split data training and test sets, using observations in year 2010 as training and observations in year 2011 as test. Show the number of observations in each set.**"
      ],
      "metadata": {
        "id": "t_t5kmPCQgNU"
      }
    },
    {
      "cell_type": "code",
      "source": [
        "train = dat[dat['year'] == 2010]\n",
        "test = dat[dat['year'] == 2011]\n",
        "print(train.shape)\n",
        "print(test.shape)"
      ],
      "metadata": {
        "colab": {
          "base_uri": "https://localhost:8080/"
        },
        "id": "OERG101dQfGh",
        "outputId": "e1a9afbe-9d80-4462-b425-a25c10d531ee"
      },
      "execution_count": 48,
      "outputs": [
        {
          "output_type": "stream",
          "name": "stdout",
          "text": [
            "(17847, 17)\n",
            "(19134, 17)\n"
          ]
        }
      ]
    },
    {
      "cell_type": "markdown",
      "source": [
        "**There are 17,847 observations in the training dataset, and there are 19,134 observations in the test dataset.**"
      ],
      "metadata": {
        "id": "yNwj7wF-RIBF"
      }
    },
    {
      "cell_type": "markdown",
      "source": [
        "# **Question 2**\n",
        "\n",
        "**Fit a Poisson neural network using three inputs: age, income (in log scale), and industry. Start with tuning parameters: (1) embedding dimension = 1; (2) number of hidden layers = 1; (3) number of neurons = 2. Calculate test data MSE.**"
      ],
      "metadata": {
        "id": "O2CLDf60RR2y"
      }
    },
    {
      "cell_type": "code",
      "source": [
        "# Fit a Poisson Neural Net\n",
        "# convert to float\n",
        "convert_dict = {'ernum': float,\n",
        "                'chronic': float,\n",
        "                'income': float\n",
        "                }\n",
        "train = train.astype(convert_dict)\n",
        "test = test.astype(convert_dict)"
      ],
      "metadata": {
        "id": "g0D4bVhjRpaF"
      },
      "execution_count": 49,
      "outputs": []
    },
    {
      "cell_type": "code",
      "source": [
        "# creat new variable\n",
        "train['logincome'] = np.log(train['income'])\n",
        "test['logincome'] = np.log(test['income'])"
      ],
      "metadata": {
        "id": "97peohEHR_7z"
      },
      "execution_count": 50,
      "outputs": []
    },
    {
      "cell_type": "code",
      "source": [
        "xnames = ['age','logincome','industry']\n",
        "ynames = ['ernum']\n",
        "xtrain = train[xnames]\n",
        "ytrain = train[ynames]"
      ],
      "metadata": {
        "id": "LelVajG-SAw7"
      },
      "execution_count": 51,
      "outputs": []
    },
    {
      "cell_type": "code",
      "source": [
        "in_layer = Input(shape = (xtrain.shape[1],))\n",
        "dense1 = Dense(2, activation = 'tanh')(in_layer)\n",
        "mu = Dense(1, activation = 'exponential')(dense1)"
      ],
      "metadata": {
        "id": "eu5UAXDkS1p9"
      },
      "execution_count": 52,
      "outputs": []
    },
    {
      "cell_type": "code",
      "source": [
        "model = Model(inputs = in_layer, outputs = mu)\n",
        "model.summary()"
      ],
      "metadata": {
        "colab": {
          "base_uri": "https://localhost:8080/"
        },
        "id": "dgS-xkz_TQuj",
        "outputId": "1db43f08-1a9e-4faa-ba93-9235e5253550"
      },
      "execution_count": 53,
      "outputs": [
        {
          "output_type": "stream",
          "name": "stdout",
          "text": [
            "Model: \"model_3\"\n",
            "_________________________________________________________________\n",
            " Layer (type)                Output Shape              Param #   \n",
            "=================================================================\n",
            " input_6 (InputLayer)        [(None, 3)]               0         \n",
            "                                                                 \n",
            " dense_6 (Dense)             (None, 2)                 8         \n",
            "                                                                 \n",
            " dense_7 (Dense)             (None, 1)                 3         \n",
            "                                                                 \n",
            "=================================================================\n",
            "Total params: 11 (44.00 Byte)\n",
            "Trainable params: 11 (44.00 Byte)\n",
            "Non-trainable params: 0 (0.00 Byte)\n",
            "_________________________________________________________________\n"
          ]
        }
      ]
    },
    {
      "cell_type": "code",
      "source": [
        "model.compile(optimizer = 'adam', loss = 'Poisson')"
      ],
      "metadata": {
        "id": "CRmVR5-RU3RF"
      },
      "execution_count": 54,
      "outputs": []
    },
    {
      "cell_type": "code",
      "source": [
        "model.fit(xtrain, ytrain, epochs=100, shuffle=False, batch_size=128, verbose=2)"
      ],
      "metadata": {
        "colab": {
          "base_uri": "https://localhost:8080/"
        },
        "id": "DYdXK2RBU7NI",
        "outputId": "1a4e258d-311e-4965-ca89-fb2a96a32150"
      },
      "execution_count": 55,
      "outputs": [
        {
          "output_type": "stream",
          "name": "stdout",
          "text": [
            "Epoch 1/100\n",
            "140/140 - 1s - loss: 0.6498 - 748ms/epoch - 5ms/step\n",
            "Epoch 2/100\n",
            "140/140 - 0s - loss: 0.4655 - 197ms/epoch - 1ms/step\n",
            "Epoch 3/100\n",
            "140/140 - 0s - loss: 0.4373 - 201ms/epoch - 1ms/step\n",
            "Epoch 4/100\n",
            "140/140 - 0s - loss: 0.4358 - 208ms/epoch - 1ms/step\n",
            "Epoch 5/100\n",
            "140/140 - 0s - loss: 0.4345 - 190ms/epoch - 1ms/step\n",
            "Epoch 6/100\n",
            "140/140 - 0s - loss: 0.4333 - 221ms/epoch - 2ms/step\n",
            "Epoch 7/100\n",
            "140/140 - 0s - loss: 0.4324 - 224ms/epoch - 2ms/step\n",
            "Epoch 8/100\n",
            "140/140 - 0s - loss: 0.4316 - 190ms/epoch - 1ms/step\n",
            "Epoch 9/100\n",
            "140/140 - 0s - loss: 0.4311 - 195ms/epoch - 1ms/step\n",
            "Epoch 10/100\n",
            "140/140 - 0s - loss: 0.4307 - 202ms/epoch - 1ms/step\n",
            "Epoch 11/100\n",
            "140/140 - 0s - loss: 0.4304 - 209ms/epoch - 1ms/step\n",
            "Epoch 12/100\n",
            "140/140 - 0s - loss: 0.4302 - 198ms/epoch - 1ms/step\n",
            "Epoch 13/100\n",
            "140/140 - 0s - loss: 0.4300 - 203ms/epoch - 1ms/step\n",
            "Epoch 14/100\n",
            "140/140 - 0s - loss: 0.4299 - 197ms/epoch - 1ms/step\n",
            "Epoch 15/100\n",
            "140/140 - 0s - loss: 0.4297 - 198ms/epoch - 1ms/step\n",
            "Epoch 16/100\n",
            "140/140 - 0s - loss: 0.4296 - 216ms/epoch - 2ms/step\n",
            "Epoch 17/100\n",
            "140/140 - 0s - loss: 0.4295 - 198ms/epoch - 1ms/step\n",
            "Epoch 18/100\n",
            "140/140 - 0s - loss: 0.4293 - 196ms/epoch - 1ms/step\n",
            "Epoch 19/100\n",
            "140/140 - 0s - loss: 0.4292 - 252ms/epoch - 2ms/step\n",
            "Epoch 20/100\n",
            "140/140 - 0s - loss: 0.4291 - 307ms/epoch - 2ms/step\n",
            "Epoch 21/100\n",
            "140/140 - 0s - loss: 0.4290 - 290ms/epoch - 2ms/step\n",
            "Epoch 22/100\n",
            "140/140 - 0s - loss: 0.4289 - 277ms/epoch - 2ms/step\n",
            "Epoch 23/100\n",
            "140/140 - 0s - loss: 0.4289 - 305ms/epoch - 2ms/step\n",
            "Epoch 24/100\n",
            "140/140 - 0s - loss: 0.4288 - 293ms/epoch - 2ms/step\n",
            "Epoch 25/100\n",
            "140/140 - 0s - loss: 0.4288 - 278ms/epoch - 2ms/step\n",
            "Epoch 26/100\n",
            "140/140 - 0s - loss: 0.4288 - 276ms/epoch - 2ms/step\n",
            "Epoch 27/100\n",
            "140/140 - 0s - loss: 0.4287 - 346ms/epoch - 2ms/step\n",
            "Epoch 28/100\n",
            "140/140 - 0s - loss: 0.4287 - 327ms/epoch - 2ms/step\n",
            "Epoch 29/100\n",
            "140/140 - 0s - loss: 0.4287 - 204ms/epoch - 1ms/step\n",
            "Epoch 30/100\n",
            "140/140 - 0s - loss: 0.4287 - 194ms/epoch - 1ms/step\n",
            "Epoch 31/100\n",
            "140/140 - 0s - loss: 0.4287 - 204ms/epoch - 1ms/step\n",
            "Epoch 32/100\n",
            "140/140 - 0s - loss: 0.4286 - 212ms/epoch - 2ms/step\n",
            "Epoch 33/100\n",
            "140/140 - 0s - loss: 0.4286 - 197ms/epoch - 1ms/step\n",
            "Epoch 34/100\n",
            "140/140 - 0s - loss: 0.4286 - 187ms/epoch - 1ms/step\n",
            "Epoch 35/100\n",
            "140/140 - 0s - loss: 0.4286 - 200ms/epoch - 1ms/step\n",
            "Epoch 36/100\n",
            "140/140 - 0s - loss: 0.4286 - 191ms/epoch - 1ms/step\n",
            "Epoch 37/100\n",
            "140/140 - 0s - loss: 0.4286 - 210ms/epoch - 1ms/step\n",
            "Epoch 38/100\n",
            "140/140 - 0s - loss: 0.4286 - 189ms/epoch - 1ms/step\n",
            "Epoch 39/100\n",
            "140/140 - 0s - loss: 0.4286 - 204ms/epoch - 1ms/step\n",
            "Epoch 40/100\n",
            "140/140 - 0s - loss: 0.4286 - 199ms/epoch - 1ms/step\n",
            "Epoch 41/100\n",
            "140/140 - 0s - loss: 0.4286 - 196ms/epoch - 1ms/step\n",
            "Epoch 42/100\n",
            "140/140 - 0s - loss: 0.4286 - 206ms/epoch - 1ms/step\n",
            "Epoch 43/100\n",
            "140/140 - 0s - loss: 0.4286 - 194ms/epoch - 1ms/step\n",
            "Epoch 44/100\n",
            "140/140 - 0s - loss: 0.4285 - 191ms/epoch - 1ms/step\n",
            "Epoch 45/100\n",
            "140/140 - 0s - loss: 0.4285 - 193ms/epoch - 1ms/step\n",
            "Epoch 46/100\n",
            "140/140 - 0s - loss: 0.4285 - 205ms/epoch - 1ms/step\n",
            "Epoch 47/100\n",
            "140/140 - 0s - loss: 0.4285 - 203ms/epoch - 1ms/step\n",
            "Epoch 48/100\n",
            "140/140 - 0s - loss: 0.4285 - 191ms/epoch - 1ms/step\n",
            "Epoch 49/100\n",
            "140/140 - 0s - loss: 0.4285 - 192ms/epoch - 1ms/step\n",
            "Epoch 50/100\n",
            "140/140 - 0s - loss: 0.4285 - 197ms/epoch - 1ms/step\n",
            "Epoch 51/100\n",
            "140/140 - 0s - loss: 0.4285 - 212ms/epoch - 2ms/step\n",
            "Epoch 52/100\n",
            "140/140 - 0s - loss: 0.4285 - 187ms/epoch - 1ms/step\n",
            "Epoch 53/100\n",
            "140/140 - 0s - loss: 0.4285 - 216ms/epoch - 2ms/step\n",
            "Epoch 54/100\n",
            "140/140 - 0s - loss: 0.4285 - 195ms/epoch - 1ms/step\n",
            "Epoch 55/100\n",
            "140/140 - 0s - loss: 0.4285 - 195ms/epoch - 1ms/step\n",
            "Epoch 56/100\n",
            "140/140 - 0s - loss: 0.4285 - 199ms/epoch - 1ms/step\n",
            "Epoch 57/100\n",
            "140/140 - 0s - loss: 0.4285 - 199ms/epoch - 1ms/step\n",
            "Epoch 58/100\n",
            "140/140 - 0s - loss: 0.4285 - 208ms/epoch - 1ms/step\n",
            "Epoch 59/100\n",
            "140/140 - 0s - loss: 0.4285 - 193ms/epoch - 1ms/step\n",
            "Epoch 60/100\n",
            "140/140 - 0s - loss: 0.4285 - 189ms/epoch - 1ms/step\n",
            "Epoch 61/100\n",
            "140/140 - 0s - loss: 0.4284 - 197ms/epoch - 1ms/step\n",
            "Epoch 62/100\n",
            "140/140 - 0s - loss: 0.4284 - 194ms/epoch - 1ms/step\n",
            "Epoch 63/100\n",
            "140/140 - 0s - loss: 0.4284 - 209ms/epoch - 1ms/step\n",
            "Epoch 64/100\n",
            "140/140 - 0s - loss: 0.4284 - 194ms/epoch - 1ms/step\n",
            "Epoch 65/100\n",
            "140/140 - 0s - loss: 0.4284 - 194ms/epoch - 1ms/step\n",
            "Epoch 66/100\n",
            "140/140 - 0s - loss: 0.4284 - 202ms/epoch - 1ms/step\n",
            "Epoch 67/100\n",
            "140/140 - 0s - loss: 0.4284 - 200ms/epoch - 1ms/step\n",
            "Epoch 68/100\n",
            "140/140 - 0s - loss: 0.4284 - 203ms/epoch - 1ms/step\n",
            "Epoch 69/100\n",
            "140/140 - 0s - loss: 0.4284 - 200ms/epoch - 1ms/step\n",
            "Epoch 70/100\n",
            "140/140 - 0s - loss: 0.4284 - 197ms/epoch - 1ms/step\n",
            "Epoch 71/100\n",
            "140/140 - 0s - loss: 0.4284 - 211ms/epoch - 2ms/step\n",
            "Epoch 72/100\n",
            "140/140 - 0s - loss: 0.4284 - 199ms/epoch - 1ms/step\n",
            "Epoch 73/100\n",
            "140/140 - 0s - loss: 0.4284 - 210ms/epoch - 1ms/step\n",
            "Epoch 74/100\n",
            "140/140 - 0s - loss: 0.4284 - 187ms/epoch - 1ms/step\n",
            "Epoch 75/100\n",
            "140/140 - 0s - loss: 0.4284 - 198ms/epoch - 1ms/step\n",
            "Epoch 76/100\n",
            "140/140 - 0s - loss: 0.4284 - 204ms/epoch - 1ms/step\n",
            "Epoch 77/100\n",
            "140/140 - 0s - loss: 0.4284 - 194ms/epoch - 1ms/step\n",
            "Epoch 78/100\n",
            "140/140 - 0s - loss: 0.4284 - 243ms/epoch - 2ms/step\n",
            "Epoch 79/100\n",
            "140/140 - 0s - loss: 0.4283 - 278ms/epoch - 2ms/step\n",
            "Epoch 80/100\n",
            "140/140 - 0s - loss: 0.4283 - 294ms/epoch - 2ms/step\n",
            "Epoch 81/100\n",
            "140/140 - 0s - loss: 0.4283 - 290ms/epoch - 2ms/step\n",
            "Epoch 82/100\n",
            "140/140 - 0s - loss: 0.4283 - 313ms/epoch - 2ms/step\n",
            "Epoch 83/100\n",
            "140/140 - 0s - loss: 0.4283 - 307ms/epoch - 2ms/step\n",
            "Epoch 84/100\n",
            "140/140 - 0s - loss: 0.4283 - 328ms/epoch - 2ms/step\n",
            "Epoch 85/100\n",
            "140/140 - 0s - loss: 0.4283 - 303ms/epoch - 2ms/step\n",
            "Epoch 86/100\n",
            "140/140 - 0s - loss: 0.4283 - 300ms/epoch - 2ms/step\n",
            "Epoch 87/100\n",
            "140/140 - 0s - loss: 0.4283 - 290ms/epoch - 2ms/step\n",
            "Epoch 88/100\n",
            "140/140 - 0s - loss: 0.4283 - 191ms/epoch - 1ms/step\n",
            "Epoch 89/100\n",
            "140/140 - 0s - loss: 0.4283 - 205ms/epoch - 1ms/step\n",
            "Epoch 90/100\n",
            "140/140 - 0s - loss: 0.4283 - 202ms/epoch - 1ms/step\n",
            "Epoch 91/100\n",
            "140/140 - 0s - loss: 0.4283 - 207ms/epoch - 1ms/step\n",
            "Epoch 92/100\n",
            "140/140 - 0s - loss: 0.4283 - 188ms/epoch - 1ms/step\n",
            "Epoch 93/100\n",
            "140/140 - 0s - loss: 0.4283 - 184ms/epoch - 1ms/step\n",
            "Epoch 94/100\n",
            "140/140 - 0s - loss: 0.4283 - 209ms/epoch - 1ms/step\n",
            "Epoch 95/100\n",
            "140/140 - 0s - loss: 0.4283 - 194ms/epoch - 1ms/step\n",
            "Epoch 96/100\n",
            "140/140 - 0s - loss: 0.4282 - 197ms/epoch - 1ms/step\n",
            "Epoch 97/100\n",
            "140/140 - 0s - loss: 0.4282 - 190ms/epoch - 1ms/step\n",
            "Epoch 98/100\n",
            "140/140 - 0s - loss: 0.4282 - 196ms/epoch - 1ms/step\n",
            "Epoch 99/100\n",
            "140/140 - 0s - loss: 0.4282 - 203ms/epoch - 1ms/step\n",
            "Epoch 100/100\n",
            "140/140 - 0s - loss: 0.4282 - 191ms/epoch - 1ms/step\n"
          ]
        },
        {
          "output_type": "execute_result",
          "data": {
            "text/plain": [
              "<keras.src.callbacks.History at 0x7c2dd3d73670>"
            ]
          },
          "metadata": {},
          "execution_count": 55
        }
      ]
    },
    {
      "cell_type": "code",
      "source": [
        "xtest = test[xnames]\n",
        "ytest = test[ynames]\n",
        "yhat = model.predict(xtest)\n",
        "print(yhat)"
      ],
      "metadata": {
        "colab": {
          "base_uri": "https://localhost:8080/"
        },
        "id": "sjIfIrARTnWR",
        "outputId": "cd1f1918-9cf7-4686-8d71-66126041c7e7"
      },
      "execution_count": 56,
      "outputs": [
        {
          "output_type": "stream",
          "name": "stdout",
          "text": [
            "598/598 [==============================] - 1s 1ms/step\n",
            "[[0.11939447]\n",
            " [0.14527753]\n",
            " [0.11939447]\n",
            " ...\n",
            " [0.11939447]\n",
            " [0.11939502]\n",
            " [0.11939447]]\n"
          ]
        }
      ]
    },
    {
      "cell_type": "code",
      "source": [
        "metrics.mean_squared_error(ytest, yhat)"
      ],
      "metadata": {
        "colab": {
          "base_uri": "https://localhost:8080/"
        },
        "id": "-FxT26jlVGC6",
        "outputId": "4af8f9b2-3dc4-4d2a-fa57-f3d8bb48efbd"
      },
      "execution_count": 60,
      "outputs": [
        {
          "output_type": "execute_result",
          "data": {
            "text/plain": [
              "0.34191002214413274"
            ]
          },
          "metadata": {},
          "execution_count": 60
        }
      ]
    },
    {
      "cell_type": "markdown",
      "source": [
        "**The test data MSE equals to 0.3419.**"
      ],
      "metadata": {
        "id": "pt18Jx_6WsT3"
      }
    },
    {
      "cell_type": "markdown",
      "source": [
        "# **Question 3**\n",
        "\n",
        "**From 2, change embedding dimension to 2, does this improve test data MSE?**"
      ],
      "metadata": {
        "id": "rPHfCZKoWkgI"
      }
    },
    {
      "cell_type": "code",
      "source": [
        "# Categorical Embedding\n",
        "# label encoding\n",
        "from sklearn.preprocessing import LabelEncoder\n",
        "le = LabelEncoder()\n",
        "train['industry'] = le.fit_transform(train.industry.values)\n",
        "train['industry'].value_counts()"
      ],
      "metadata": {
        "colab": {
          "base_uri": "https://localhost:8080/"
        },
        "id": "ozsrs6MgrQil",
        "outputId": "296b0798-30fb-47d5-8eb4-b071316ffeb3"
      },
      "execution_count": 61,
      "outputs": [
        {
          "output_type": "execute_result",
          "data": {
            "text/plain": [
              "industry\n",
              "0     5358\n",
              "10    2967\n",
              "5     1634\n",
              "9     1401\n",
              "4     1285\n",
              "11    1167\n",
              "3      793\n",
              "8      706\n",
              "13     650\n",
              "12     642\n",
              "6      631\n",
              "7      262\n",
              "1      192\n",
              "14      67\n",
              "15      53\n",
              "2       39\n",
              "Name: count, dtype: int64"
            ]
          },
          "metadata": {},
          "execution_count": 61
        }
      ]
    },
    {
      "cell_type": "code",
      "source": [
        "test['industry'] = le.fit_transform(test.industry.values)\n",
        "test['industry'].value_counts()"
      ],
      "metadata": {
        "colab": {
          "base_uri": "https://localhost:8080/"
        },
        "id": "GYjx_uPNsMFf",
        "outputId": "e3c5d43a-6562-49ba-8333-b705ab6de98e"
      },
      "execution_count": 62,
      "outputs": [
        {
          "output_type": "execute_result",
          "data": {
            "text/plain": [
              "industry\n",
              "0     5684\n",
              "10    3188\n",
              "5     1777\n",
              "9     1553\n",
              "11    1325\n",
              "4     1317\n",
              "3      856\n",
              "8      729\n",
              "12     720\n",
              "13     715\n",
              "6      643\n",
              "7      255\n",
              "1      207\n",
              "14      61\n",
              "15      54\n",
              "2       50\n",
              "Name: count, dtype: int64"
            ]
          },
          "metadata": {},
          "execution_count": 62
        }
      ]
    },
    {
      "cell_type": "code",
      "source": [
        "# define data\n",
        "numVar = ['age','logincome']\n",
        "catVar = ['industry']\n",
        "xnum_train = train[numVar]\n",
        "xcat_train = train[catVar]\n",
        "x_train = [xnum_train, xcat_train]\n",
        "y_train = train['ernum']\n",
        "\n",
        "from keras.layers import Embedding\n",
        "from keras.layers import concatenate\n",
        "from keras.layers import Reshape\n",
        "\n",
        "# define the NN structure\n",
        "# define numerical inputs\n",
        "in_num_layer = Input(shape = (xnum_train.shape[1],))\n",
        "in_cat_layer = Input(shape = (1,))\n",
        "\n",
        "# define embedding layers\n",
        "embed_size = 2 # embedding size\n",
        "em_layer = Embedding(input_dim = len(np.unique(xcat_train)), output_dim = embed_size)(in_cat_layer)\n",
        "em_layer = Reshape(target_shape=(embed_size,))(em_layer)\n",
        "\n",
        "in_layers = [in_num_layer,in_cat_layer]\n",
        "\n",
        "# concatenate emebedding layer and numeric input layer together\n",
        "conc_all = concatenate([in_num_layer, em_layer])\n",
        "dense1 = Dense(2, activation='relu')(conc_all)\n",
        "mu = Dense(1, activation = 'exponential')(dense1)\n",
        "\n",
        "# define model\n",
        "model = Model(inputs = in_layers, outputs = mu)\n",
        "model.summary()"
      ],
      "metadata": {
        "colab": {
          "base_uri": "https://localhost:8080/"
        },
        "id": "4o3Vbu9asVs2",
        "outputId": "b909a135-1d35-4e5e-e26d-68c139c9503c"
      },
      "execution_count": 63,
      "outputs": [
        {
          "output_type": "stream",
          "name": "stdout",
          "text": [
            "Model: \"model_4\"\n",
            "__________________________________________________________________________________________________\n",
            " Layer (type)                Output Shape                 Param #   Connected to                  \n",
            "==================================================================================================\n",
            " input_8 (InputLayer)        [(None, 1)]                  0         []                            \n",
            "                                                                                                  \n",
            " embedding_2 (Embedding)     (None, 1, 2)                 32        ['input_8[0][0]']             \n",
            "                                                                                                  \n",
            " input_7 (InputLayer)        [(None, 2)]                  0         []                            \n",
            "                                                                                                  \n",
            " reshape_2 (Reshape)         (None, 2)                    0         ['embedding_2[0][0]']         \n",
            "                                                                                                  \n",
            " concatenate_2 (Concatenate  (None, 4)                    0         ['input_7[0][0]',             \n",
            " )                                                                   'reshape_2[0][0]']           \n",
            "                                                                                                  \n",
            " dense_8 (Dense)             (None, 2)                    10        ['concatenate_2[0][0]']       \n",
            "                                                                                                  \n",
            " dense_9 (Dense)             (None, 1)                    3         ['dense_8[0][0]']             \n",
            "                                                                                                  \n",
            "==================================================================================================\n",
            "Total params: 45 (180.00 Byte)\n",
            "Trainable params: 45 (180.00 Byte)\n",
            "Non-trainable params: 0 (0.00 Byte)\n",
            "__________________________________________________________________________________________________\n"
          ]
        }
      ]
    },
    {
      "cell_type": "code",
      "source": [
        "model.compile(optimizer = 'adam', loss = 'Poisson')"
      ],
      "metadata": {
        "id": "QuOebhu8tElu"
      },
      "execution_count": 64,
      "outputs": []
    },
    {
      "cell_type": "code",
      "source": [
        "model.fit(x_train, y_train, epochs=100, shuffle=False, batch_size=128, verbose=2)"
      ],
      "metadata": {
        "colab": {
          "base_uri": "https://localhost:8080/"
        },
        "id": "MPVs8cbYtKI4",
        "outputId": "48c27bd7-f0cc-47d3-85c2-722300d46682"
      },
      "execution_count": 65,
      "outputs": [
        {
          "output_type": "stream",
          "name": "stdout",
          "text": [
            "Epoch 1/100\n",
            "140/140 - 1s - loss: 0.9969 - 924ms/epoch - 7ms/step\n",
            "Epoch 2/100\n",
            "140/140 - 0s - loss: 0.4685 - 254ms/epoch - 2ms/step\n",
            "Epoch 3/100\n",
            "140/140 - 0s - loss: 0.4556 - 370ms/epoch - 3ms/step\n",
            "Epoch 4/100\n",
            "140/140 - 0s - loss: 0.4452 - 349ms/epoch - 2ms/step\n",
            "Epoch 5/100\n",
            "140/140 - 0s - loss: 0.4374 - 327ms/epoch - 2ms/step\n",
            "Epoch 6/100\n",
            "140/140 - 0s - loss: 0.4321 - 350ms/epoch - 3ms/step\n",
            "Epoch 7/100\n",
            "140/140 - 0s - loss: 0.4288 - 351ms/epoch - 3ms/step\n",
            "Epoch 8/100\n",
            "140/140 - 0s - loss: 0.4268 - 340ms/epoch - 2ms/step\n",
            "Epoch 9/100\n",
            "140/140 - 0s - loss: 0.4258 - 389ms/epoch - 3ms/step\n",
            "Epoch 10/100\n",
            "140/140 - 0s - loss: 0.4252 - 257ms/epoch - 2ms/step\n",
            "Epoch 11/100\n",
            "140/140 - 0s - loss: 0.4250 - 222ms/epoch - 2ms/step\n",
            "Epoch 12/100\n",
            "140/140 - 0s - loss: 0.4248 - 208ms/epoch - 1ms/step\n",
            "Epoch 13/100\n",
            "140/140 - 0s - loss: 0.4248 - 208ms/epoch - 1ms/step\n",
            "Epoch 14/100\n",
            "140/140 - 0s - loss: 0.4247 - 218ms/epoch - 2ms/step\n",
            "Epoch 15/100\n",
            "140/140 - 0s - loss: 0.4247 - 220ms/epoch - 2ms/step\n",
            "Epoch 16/100\n",
            "140/140 - 0s - loss: 0.4247 - 216ms/epoch - 2ms/step\n",
            "Epoch 17/100\n",
            "140/140 - 0s - loss: 0.4247 - 221ms/epoch - 2ms/step\n",
            "Epoch 18/100\n",
            "140/140 - 0s - loss: 0.4247 - 216ms/epoch - 2ms/step\n",
            "Epoch 19/100\n",
            "140/140 - 0s - loss: 0.4247 - 225ms/epoch - 2ms/step\n",
            "Epoch 20/100\n",
            "140/140 - 0s - loss: 0.4247 - 229ms/epoch - 2ms/step\n",
            "Epoch 21/100\n",
            "140/140 - 0s - loss: 0.4247 - 220ms/epoch - 2ms/step\n",
            "Epoch 22/100\n",
            "140/140 - 0s - loss: 0.4247 - 212ms/epoch - 2ms/step\n",
            "Epoch 23/100\n",
            "140/140 - 0s - loss: 0.4247 - 214ms/epoch - 2ms/step\n",
            "Epoch 24/100\n",
            "140/140 - 0s - loss: 0.4247 - 215ms/epoch - 2ms/step\n",
            "Epoch 25/100\n",
            "140/140 - 0s - loss: 0.4247 - 206ms/epoch - 1ms/step\n",
            "Epoch 26/100\n",
            "140/140 - 0s - loss: 0.4247 - 220ms/epoch - 2ms/step\n",
            "Epoch 27/100\n",
            "140/140 - 0s - loss: 0.4247 - 212ms/epoch - 2ms/step\n",
            "Epoch 28/100\n",
            "140/140 - 0s - loss: 0.4247 - 211ms/epoch - 2ms/step\n",
            "Epoch 29/100\n",
            "140/140 - 0s - loss: 0.4247 - 222ms/epoch - 2ms/step\n",
            "Epoch 30/100\n",
            "140/140 - 0s - loss: 0.4247 - 216ms/epoch - 2ms/step\n",
            "Epoch 31/100\n",
            "140/140 - 0s - loss: 0.4247 - 220ms/epoch - 2ms/step\n",
            "Epoch 32/100\n",
            "140/140 - 0s - loss: 0.4247 - 220ms/epoch - 2ms/step\n",
            "Epoch 33/100\n",
            "140/140 - 0s - loss: 0.4247 - 219ms/epoch - 2ms/step\n",
            "Epoch 34/100\n",
            "140/140 - 0s - loss: 0.4247 - 234ms/epoch - 2ms/step\n",
            "Epoch 35/100\n",
            "140/140 - 0s - loss: 0.4247 - 218ms/epoch - 2ms/step\n",
            "Epoch 36/100\n",
            "140/140 - 0s - loss: 0.4247 - 213ms/epoch - 2ms/step\n",
            "Epoch 37/100\n",
            "140/140 - 0s - loss: 0.4247 - 215ms/epoch - 2ms/step\n",
            "Epoch 38/100\n",
            "140/140 - 0s - loss: 0.4247 - 239ms/epoch - 2ms/step\n",
            "Epoch 39/100\n",
            "140/140 - 0s - loss: 0.4247 - 212ms/epoch - 2ms/step\n",
            "Epoch 40/100\n",
            "140/140 - 0s - loss: 0.4246 - 215ms/epoch - 2ms/step\n",
            "Epoch 41/100\n",
            "140/140 - 0s - loss: 0.4246 - 218ms/epoch - 2ms/step\n",
            "Epoch 42/100\n",
            "140/140 - 0s - loss: 0.4246 - 205ms/epoch - 1ms/step\n",
            "Epoch 43/100\n",
            "140/140 - 0s - loss: 0.4246 - 237ms/epoch - 2ms/step\n",
            "Epoch 44/100\n",
            "140/140 - 0s - loss: 0.4246 - 211ms/epoch - 2ms/step\n",
            "Epoch 45/100\n",
            "140/140 - 0s - loss: 0.4246 - 228ms/epoch - 2ms/step\n",
            "Epoch 46/100\n",
            "140/140 - 0s - loss: 0.4246 - 203ms/epoch - 1ms/step\n",
            "Epoch 47/100\n",
            "140/140 - 0s - loss: 0.4246 - 218ms/epoch - 2ms/step\n",
            "Epoch 48/100\n",
            "140/140 - 0s - loss: 0.4246 - 225ms/epoch - 2ms/step\n",
            "Epoch 49/100\n",
            "140/140 - 0s - loss: 0.4246 - 212ms/epoch - 2ms/step\n",
            "Epoch 50/100\n",
            "140/140 - 0s - loss: 0.4246 - 213ms/epoch - 2ms/step\n",
            "Epoch 51/100\n",
            "140/140 - 0s - loss: 0.4246 - 218ms/epoch - 2ms/step\n",
            "Epoch 52/100\n",
            "140/140 - 0s - loss: 0.4246 - 221ms/epoch - 2ms/step\n",
            "Epoch 53/100\n",
            "140/140 - 0s - loss: 0.4246 - 211ms/epoch - 2ms/step\n",
            "Epoch 54/100\n",
            "140/140 - 0s - loss: 0.4246 - 205ms/epoch - 1ms/step\n",
            "Epoch 55/100\n",
            "140/140 - 0s - loss: 0.4246 - 301ms/epoch - 2ms/step\n",
            "Epoch 56/100\n",
            "140/140 - 0s - loss: 0.4246 - 346ms/epoch - 2ms/step\n",
            "Epoch 57/100\n",
            "140/140 - 0s - loss: 0.4246 - 327ms/epoch - 2ms/step\n",
            "Epoch 58/100\n",
            "140/140 - 0s - loss: 0.4246 - 328ms/epoch - 2ms/step\n",
            "Epoch 59/100\n",
            "140/140 - 0s - loss: 0.4246 - 353ms/epoch - 3ms/step\n",
            "Epoch 60/100\n",
            "140/140 - 0s - loss: 0.4246 - 352ms/epoch - 3ms/step\n",
            "Epoch 61/100\n",
            "140/140 - 0s - loss: 0.4246 - 374ms/epoch - 3ms/step\n",
            "Epoch 62/100\n",
            "140/140 - 0s - loss: 0.4246 - 371ms/epoch - 3ms/step\n",
            "Epoch 63/100\n",
            "140/140 - 0s - loss: 0.4246 - 220ms/epoch - 2ms/step\n",
            "Epoch 64/100\n",
            "140/140 - 0s - loss: 0.4246 - 227ms/epoch - 2ms/step\n",
            "Epoch 65/100\n",
            "140/140 - 0s - loss: 0.4246 - 214ms/epoch - 2ms/step\n",
            "Epoch 66/100\n",
            "140/140 - 0s - loss: 0.4246 - 218ms/epoch - 2ms/step\n",
            "Epoch 67/100\n",
            "140/140 - 0s - loss: 0.4246 - 227ms/epoch - 2ms/step\n",
            "Epoch 68/100\n",
            "140/140 - 0s - loss: 0.4246 - 212ms/epoch - 2ms/step\n",
            "Epoch 69/100\n",
            "140/140 - 0s - loss: 0.4246 - 213ms/epoch - 2ms/step\n",
            "Epoch 70/100\n",
            "140/140 - 0s - loss: 0.4246 - 217ms/epoch - 2ms/step\n",
            "Epoch 71/100\n",
            "140/140 - 0s - loss: 0.4246 - 223ms/epoch - 2ms/step\n",
            "Epoch 72/100\n",
            "140/140 - 0s - loss: 0.4246 - 210ms/epoch - 2ms/step\n",
            "Epoch 73/100\n",
            "140/140 - 0s - loss: 0.4246 - 208ms/epoch - 1ms/step\n",
            "Epoch 74/100\n",
            "140/140 - 0s - loss: 0.4246 - 213ms/epoch - 2ms/step\n",
            "Epoch 75/100\n",
            "140/140 - 0s - loss: 0.4246 - 216ms/epoch - 2ms/step\n",
            "Epoch 76/100\n",
            "140/140 - 0s - loss: 0.4246 - 230ms/epoch - 2ms/step\n",
            "Epoch 77/100\n",
            "140/140 - 0s - loss: 0.4246 - 218ms/epoch - 2ms/step\n",
            "Epoch 78/100\n",
            "140/140 - 0s - loss: 0.4245 - 213ms/epoch - 2ms/step\n",
            "Epoch 79/100\n",
            "140/140 - 0s - loss: 0.4245 - 223ms/epoch - 2ms/step\n",
            "Epoch 80/100\n",
            "140/140 - 0s - loss: 0.4245 - 207ms/epoch - 1ms/step\n",
            "Epoch 81/100\n",
            "140/140 - 0s - loss: 0.4245 - 233ms/epoch - 2ms/step\n",
            "Epoch 82/100\n",
            "140/140 - 0s - loss: 0.4245 - 210ms/epoch - 2ms/step\n",
            "Epoch 83/100\n",
            "140/140 - 0s - loss: 0.4245 - 215ms/epoch - 2ms/step\n",
            "Epoch 84/100\n",
            "140/140 - 0s - loss: 0.4245 - 207ms/epoch - 1ms/step\n",
            "Epoch 85/100\n",
            "140/140 - 0s - loss: 0.4245 - 225ms/epoch - 2ms/step\n",
            "Epoch 86/100\n",
            "140/140 - 0s - loss: 0.4245 - 212ms/epoch - 2ms/step\n",
            "Epoch 87/100\n",
            "140/140 - 0s - loss: 0.4245 - 221ms/epoch - 2ms/step\n",
            "Epoch 88/100\n",
            "140/140 - 0s - loss: 0.4245 - 219ms/epoch - 2ms/step\n",
            "Epoch 89/100\n",
            "140/140 - 0s - loss: 0.4245 - 220ms/epoch - 2ms/step\n",
            "Epoch 90/100\n",
            "140/140 - 0s - loss: 0.4245 - 247ms/epoch - 2ms/step\n",
            "Epoch 91/100\n",
            "140/140 - 0s - loss: 0.4245 - 218ms/epoch - 2ms/step\n",
            "Epoch 92/100\n",
            "140/140 - 0s - loss: 0.4245 - 213ms/epoch - 2ms/step\n",
            "Epoch 93/100\n",
            "140/140 - 0s - loss: 0.4245 - 212ms/epoch - 2ms/step\n",
            "Epoch 94/100\n",
            "140/140 - 0s - loss: 0.4245 - 229ms/epoch - 2ms/step\n",
            "Epoch 95/100\n",
            "140/140 - 0s - loss: 0.4245 - 237ms/epoch - 2ms/step\n",
            "Epoch 96/100\n",
            "140/140 - 0s - loss: 0.4245 - 215ms/epoch - 2ms/step\n",
            "Epoch 97/100\n",
            "140/140 - 0s - loss: 0.4245 - 218ms/epoch - 2ms/step\n",
            "Epoch 98/100\n",
            "140/140 - 0s - loss: 0.4245 - 212ms/epoch - 2ms/step\n",
            "Epoch 99/100\n",
            "140/140 - 0s - loss: 0.4245 - 221ms/epoch - 2ms/step\n",
            "Epoch 100/100\n",
            "140/140 - 0s - loss: 0.4245 - 209ms/epoch - 1ms/step\n"
          ]
        },
        {
          "output_type": "execute_result",
          "data": {
            "text/plain": [
              "<keras.src.callbacks.History at 0x7c2dced86230>"
            ]
          },
          "metadata": {},
          "execution_count": 65
        }
      ]
    },
    {
      "cell_type": "code",
      "source": [
        "# make predictions\n",
        "xnum_test = test[numVar]\n",
        "xcat_test = test[catVar]\n",
        "x_test = [xnum_test, xcat_test]\n",
        "yhat = model.predict(x_test)\n",
        "print(yhat)"
      ],
      "metadata": {
        "colab": {
          "base_uri": "https://localhost:8080/"
        },
        "id": "CbDAItGRtZvk",
        "outputId": "45c033b5-c910-4f17-900d-be200350dc36"
      },
      "execution_count": 66,
      "outputs": [
        {
          "output_type": "stream",
          "name": "stdout",
          "text": [
            "598/598 [==============================] - 1s 1ms/step\n",
            "[[0.08440963]\n",
            " [0.15649007]\n",
            " [0.11282077]\n",
            " ...\n",
            " [0.1514711 ]\n",
            " [0.14659931]\n",
            " [0.1762785 ]]\n"
          ]
        }
      ]
    },
    {
      "cell_type": "code",
      "source": [
        "metrics.mean_squared_error(ytest, yhat)"
      ],
      "metadata": {
        "colab": {
          "base_uri": "https://localhost:8080/"
        },
        "id": "M3rN6b8Bv7NM",
        "outputId": "5d4933fa-6705-44c8-c0c1-e9d091b438bc"
      },
      "execution_count": 67,
      "outputs": [
        {
          "output_type": "execute_result",
          "data": {
            "text/plain": [
              "0.3391066769849685"
            ]
          },
          "metadata": {},
          "execution_count": 67
        }
      ]
    },
    {
      "cell_type": "markdown",
      "source": [
        "**Compared to the test data MSE of 0.3419 in question 2, we can conclude that the test data MSE improve slightly by changing the embedding dimension to 2.**"
      ],
      "metadata": {
        "id": "Vn4GjCAY0x9v"
      }
    },
    {
      "cell_type": "markdown",
      "source": [
        "# **Question 4**\n",
        "\n",
        "**From 2, change number of neurons to 5, does this improve test MSE?**"
      ],
      "metadata": {
        "id": "Hci4n0P01CiI"
      }
    },
    {
      "cell_type": "code",
      "source": [
        "in_layer = Input(shape = (xtrain.shape[1],))\n",
        "dense1 = Dense(5, activation = 'tanh')(in_layer)\n",
        "mu = Dense(1, activation = 'exponential')(dense1)"
      ],
      "metadata": {
        "id": "Aww9fHHe0ul0"
      },
      "execution_count": 68,
      "outputs": []
    },
    {
      "cell_type": "code",
      "source": [
        "model = Model(inputs = in_layer, outputs = mu)\n",
        "model.summary()"
      ],
      "metadata": {
        "colab": {
          "base_uri": "https://localhost:8080/"
        },
        "id": "7gRdjm5R1wK-",
        "outputId": "29bbcce8-c2ef-40c1-cb93-c041f07d3a7e"
      },
      "execution_count": 69,
      "outputs": [
        {
          "output_type": "stream",
          "name": "stdout",
          "text": [
            "Model: \"model_5\"\n",
            "_________________________________________________________________\n",
            " Layer (type)                Output Shape              Param #   \n",
            "=================================================================\n",
            " input_9 (InputLayer)        [(None, 3)]               0         \n",
            "                                                                 \n",
            " dense_10 (Dense)            (None, 5)                 20        \n",
            "                                                                 \n",
            " dense_11 (Dense)            (None, 1)                 6         \n",
            "                                                                 \n",
            "=================================================================\n",
            "Total params: 26 (104.00 Byte)\n",
            "Trainable params: 26 (104.00 Byte)\n",
            "Non-trainable params: 0 (0.00 Byte)\n",
            "_________________________________________________________________\n"
          ]
        }
      ]
    },
    {
      "cell_type": "code",
      "source": [
        "model.compile(optimizer = 'adam', loss = 'Poisson')"
      ],
      "metadata": {
        "id": "VdLMFqOp11Li"
      },
      "execution_count": 70,
      "outputs": []
    },
    {
      "cell_type": "code",
      "source": [
        "model.fit(xtrain, ytrain, epochs=100, shuffle=False, batch_size=128, verbose=2)"
      ],
      "metadata": {
        "colab": {
          "base_uri": "https://localhost:8080/"
        },
        "id": "bdDn3jTI15Ir",
        "outputId": "d6578535-0f25-4695-84fb-1bc73bddfdc4"
      },
      "execution_count": 71,
      "outputs": [
        {
          "output_type": "stream",
          "name": "stdout",
          "text": [
            "Epoch 1/100\n",
            "140/140 - 1s - loss: 0.5023 - 760ms/epoch - 5ms/step\n",
            "Epoch 2/100\n",
            "140/140 - 0s - loss: 0.4724 - 204ms/epoch - 1ms/step\n",
            "Epoch 3/100\n",
            "140/140 - 0s - loss: 0.4630 - 204ms/epoch - 1ms/step\n",
            "Epoch 4/100\n",
            "140/140 - 0s - loss: 0.4546 - 213ms/epoch - 2ms/step\n",
            "Epoch 5/100\n",
            "140/140 - 0s - loss: 0.4448 - 213ms/epoch - 2ms/step\n",
            "Epoch 6/100\n",
            "140/140 - 0s - loss: 0.4389 - 217ms/epoch - 2ms/step\n",
            "Epoch 7/100\n",
            "140/140 - 0s - loss: 0.4370 - 218ms/epoch - 2ms/step\n",
            "Epoch 8/100\n",
            "140/140 - 0s - loss: 0.4362 - 203ms/epoch - 1ms/step\n",
            "Epoch 9/100\n",
            "140/140 - 0s - loss: 0.4354 - 213ms/epoch - 2ms/step\n",
            "Epoch 10/100\n",
            "140/140 - 0s - loss: 0.4348 - 324ms/epoch - 2ms/step\n",
            "Epoch 11/100\n",
            "140/140 - 0s - loss: 0.4343 - 316ms/epoch - 2ms/step\n",
            "Epoch 12/100\n",
            "140/140 - 0s - loss: 0.4338 - 284ms/epoch - 2ms/step\n",
            "Epoch 13/100\n",
            "140/140 - 0s - loss: 0.4335 - 286ms/epoch - 2ms/step\n",
            "Epoch 14/100\n",
            "140/140 - 0s - loss: 0.4333 - 343ms/epoch - 2ms/step\n",
            "Epoch 15/100\n",
            "140/140 - 0s - loss: 0.4330 - 288ms/epoch - 2ms/step\n",
            "Epoch 16/100\n",
            "140/140 - 0s - loss: 0.4328 - 308ms/epoch - 2ms/step\n",
            "Epoch 17/100\n",
            "140/140 - 0s - loss: 0.4326 - 340ms/epoch - 2ms/step\n",
            "Epoch 18/100\n",
            "140/140 - 0s - loss: 0.4324 - 352ms/epoch - 3ms/step\n",
            "Epoch 19/100\n",
            "140/140 - 0s - loss: 0.4323 - 215ms/epoch - 2ms/step\n",
            "Epoch 20/100\n",
            "140/140 - 0s - loss: 0.4321 - 204ms/epoch - 1ms/step\n",
            "Epoch 21/100\n",
            "140/140 - 0s - loss: 0.4319 - 211ms/epoch - 2ms/step\n",
            "Epoch 22/100\n",
            "140/140 - 0s - loss: 0.4318 - 227ms/epoch - 2ms/step\n",
            "Epoch 23/100\n",
            "140/140 - 0s - loss: 0.4316 - 209ms/epoch - 1ms/step\n",
            "Epoch 24/100\n",
            "140/140 - 0s - loss: 0.4315 - 212ms/epoch - 2ms/step\n",
            "Epoch 25/100\n",
            "140/140 - 0s - loss: 0.4314 - 200ms/epoch - 1ms/step\n",
            "Epoch 26/100\n",
            "140/140 - 0s - loss: 0.4312 - 302ms/epoch - 2ms/step\n",
            "Epoch 27/100\n",
            "140/140 - 0s - loss: 0.4311 - 382ms/epoch - 3ms/step\n",
            "Epoch 28/100\n",
            "140/140 - 0s - loss: 0.4310 - 310ms/epoch - 2ms/step\n",
            "Epoch 29/100\n",
            "140/140 - 0s - loss: 0.4309 - 406ms/epoch - 3ms/step\n",
            "Epoch 30/100\n",
            "140/140 - 1s - loss: 0.4307 - 520ms/epoch - 4ms/step\n",
            "Epoch 31/100\n",
            "140/140 - 0s - loss: 0.4306 - 479ms/epoch - 3ms/step\n",
            "Epoch 32/100\n",
            "140/140 - 0s - loss: 0.4305 - 345ms/epoch - 2ms/step\n",
            "Epoch 33/100\n",
            "140/140 - 0s - loss: 0.4304 - 367ms/epoch - 3ms/step\n",
            "Epoch 34/100\n",
            "140/140 - 0s - loss: 0.4303 - 221ms/epoch - 2ms/step\n",
            "Epoch 35/100\n",
            "140/140 - 0s - loss: 0.4302 - 203ms/epoch - 1ms/step\n",
            "Epoch 36/100\n",
            "140/140 - 0s - loss: 0.4300 - 208ms/epoch - 1ms/step\n",
            "Epoch 37/100\n",
            "140/140 - 0s - loss: 0.4299 - 204ms/epoch - 1ms/step\n",
            "Epoch 38/100\n",
            "140/140 - 0s - loss: 0.4298 - 204ms/epoch - 1ms/step\n",
            "Epoch 39/100\n",
            "140/140 - 0s - loss: 0.4297 - 212ms/epoch - 2ms/step\n",
            "Epoch 40/100\n",
            "140/140 - 0s - loss: 0.4296 - 204ms/epoch - 1ms/step\n",
            "Epoch 41/100\n",
            "140/140 - 0s - loss: 0.4295 - 222ms/epoch - 2ms/step\n",
            "Epoch 42/100\n",
            "140/140 - 0s - loss: 0.4294 - 204ms/epoch - 1ms/step\n",
            "Epoch 43/100\n",
            "140/140 - 0s - loss: 0.4294 - 199ms/epoch - 1ms/step\n",
            "Epoch 44/100\n",
            "140/140 - 0s - loss: 0.4293 - 219ms/epoch - 2ms/step\n",
            "Epoch 45/100\n",
            "140/140 - 0s - loss: 0.4292 - 203ms/epoch - 1ms/step\n",
            "Epoch 46/100\n",
            "140/140 - 0s - loss: 0.4292 - 205ms/epoch - 1ms/step\n",
            "Epoch 47/100\n",
            "140/140 - 0s - loss: 0.4291 - 202ms/epoch - 1ms/step\n",
            "Epoch 48/100\n",
            "140/140 - 0s - loss: 0.4291 - 210ms/epoch - 1ms/step\n",
            "Epoch 49/100\n",
            "140/140 - 0s - loss: 0.4290 - 219ms/epoch - 2ms/step\n",
            "Epoch 50/100\n",
            "140/140 - 0s - loss: 0.4290 - 210ms/epoch - 1ms/step\n",
            "Epoch 51/100\n",
            "140/140 - 0s - loss: 0.4289 - 196ms/epoch - 1ms/step\n",
            "Epoch 52/100\n",
            "140/140 - 0s - loss: 0.4289 - 197ms/epoch - 1ms/step\n",
            "Epoch 53/100\n",
            "140/140 - 0s - loss: 0.4289 - 220ms/epoch - 2ms/step\n",
            "Epoch 54/100\n",
            "140/140 - 0s - loss: 0.4289 - 197ms/epoch - 1ms/step\n",
            "Epoch 55/100\n",
            "140/140 - 0s - loss: 0.4289 - 204ms/epoch - 1ms/step\n",
            "Epoch 56/100\n",
            "140/140 - 0s - loss: 0.4288 - 202ms/epoch - 1ms/step\n",
            "Epoch 57/100\n",
            "140/140 - 0s - loss: 0.4288 - 208ms/epoch - 1ms/step\n",
            "Epoch 58/100\n",
            "140/140 - 0s - loss: 0.4288 - 212ms/epoch - 2ms/step\n",
            "Epoch 59/100\n",
            "140/140 - 0s - loss: 0.4288 - 257ms/epoch - 2ms/step\n",
            "Epoch 60/100\n",
            "140/140 - 0s - loss: 0.4288 - 313ms/epoch - 2ms/step\n",
            "Epoch 61/100\n",
            "140/140 - 0s - loss: 0.4288 - 285ms/epoch - 2ms/step\n",
            "Epoch 62/100\n",
            "140/140 - 0s - loss: 0.4288 - 318ms/epoch - 2ms/step\n",
            "Epoch 63/100\n",
            "140/140 - 0s - loss: 0.4288 - 296ms/epoch - 2ms/step\n",
            "Epoch 64/100\n",
            "140/140 - 0s - loss: 0.4288 - 295ms/epoch - 2ms/step\n",
            "Epoch 65/100\n",
            "140/140 - 0s - loss: 0.4287 - 350ms/epoch - 3ms/step\n",
            "Epoch 66/100\n",
            "140/140 - 0s - loss: 0.4287 - 319ms/epoch - 2ms/step\n",
            "Epoch 67/100\n",
            "140/140 - 0s - loss: 0.4287 - 330ms/epoch - 2ms/step\n",
            "Epoch 68/100\n",
            "140/140 - 0s - loss: 0.4287 - 289ms/epoch - 2ms/step\n",
            "Epoch 69/100\n",
            "140/140 - 0s - loss: 0.4287 - 205ms/epoch - 1ms/step\n",
            "Epoch 70/100\n",
            "140/140 - 0s - loss: 0.4287 - 196ms/epoch - 1ms/step\n",
            "Epoch 71/100\n",
            "140/140 - 0s - loss: 0.4287 - 453ms/epoch - 3ms/step\n",
            "Epoch 72/100\n",
            "140/140 - 0s - loss: 0.4287 - 446ms/epoch - 3ms/step\n",
            "Epoch 73/100\n",
            "140/140 - 0s - loss: 0.4287 - 313ms/epoch - 2ms/step\n",
            "Epoch 74/100\n",
            "140/140 - 0s - loss: 0.4287 - 193ms/epoch - 1ms/step\n",
            "Epoch 75/100\n",
            "140/140 - 0s - loss: 0.4287 - 193ms/epoch - 1ms/step\n",
            "Epoch 76/100\n",
            "140/140 - 0s - loss: 0.4287 - 204ms/epoch - 1ms/step\n",
            "Epoch 77/100\n",
            "140/140 - 0s - loss: 0.4287 - 195ms/epoch - 1ms/step\n",
            "Epoch 78/100\n",
            "140/140 - 0s - loss: 0.4287 - 198ms/epoch - 1ms/step\n",
            "Epoch 79/100\n",
            "140/140 - 0s - loss: 0.4287 - 202ms/epoch - 1ms/step\n",
            "Epoch 80/100\n",
            "140/140 - 0s - loss: 0.4287 - 198ms/epoch - 1ms/step\n",
            "Epoch 81/100\n",
            "140/140 - 0s - loss: 0.4287 - 215ms/epoch - 2ms/step\n",
            "Epoch 82/100\n",
            "140/140 - 0s - loss: 0.4287 - 209ms/epoch - 1ms/step\n",
            "Epoch 83/100\n",
            "140/140 - 0s - loss: 0.4287 - 263ms/epoch - 2ms/step\n",
            "Epoch 84/100\n",
            "140/140 - 0s - loss: 0.4286 - 295ms/epoch - 2ms/step\n",
            "Epoch 85/100\n",
            "140/140 - 0s - loss: 0.4286 - 357ms/epoch - 3ms/step\n",
            "Epoch 86/100\n",
            "140/140 - 0s - loss: 0.4286 - 203ms/epoch - 1ms/step\n",
            "Epoch 87/100\n",
            "140/140 - 0s - loss: 0.4286 - 376ms/epoch - 3ms/step\n",
            "Epoch 88/100\n",
            "140/140 - 1s - loss: 0.4286 - 584ms/epoch - 4ms/step\n",
            "Epoch 89/100\n",
            "140/140 - 1s - loss: 0.4286 - 659ms/epoch - 5ms/step\n",
            "Epoch 90/100\n",
            "140/140 - 0s - loss: 0.4286 - 475ms/epoch - 3ms/step\n",
            "Epoch 91/100\n",
            "140/140 - 1s - loss: 0.4286 - 637ms/epoch - 5ms/step\n",
            "Epoch 92/100\n",
            "140/140 - 1s - loss: 0.4286 - 525ms/epoch - 4ms/step\n",
            "Epoch 93/100\n",
            "140/140 - 0s - loss: 0.4286 - 460ms/epoch - 3ms/step\n",
            "Epoch 94/100\n",
            "140/140 - 1s - loss: 0.4286 - 735ms/epoch - 5ms/step\n",
            "Epoch 95/100\n",
            "140/140 - 0s - loss: 0.4286 - 242ms/epoch - 2ms/step\n",
            "Epoch 96/100\n",
            "140/140 - 0s - loss: 0.4286 - 200ms/epoch - 1ms/step\n",
            "Epoch 97/100\n",
            "140/140 - 0s - loss: 0.4286 - 206ms/epoch - 1ms/step\n",
            "Epoch 98/100\n",
            "140/140 - 0s - loss: 0.4286 - 269ms/epoch - 2ms/step\n",
            "Epoch 99/100\n",
            "140/140 - 0s - loss: 0.4286 - 331ms/epoch - 2ms/step\n",
            "Epoch 100/100\n",
            "140/140 - 0s - loss: 0.4286 - 326ms/epoch - 2ms/step\n"
          ]
        },
        {
          "output_type": "execute_result",
          "data": {
            "text/plain": [
              "<keras.src.callbacks.History at 0x7c2dd3d9bc70>"
            ]
          },
          "metadata": {},
          "execution_count": 71
        }
      ]
    },
    {
      "cell_type": "code",
      "source": [
        "xtest = test[xnames]\n",
        "ytest = test[ynames]\n",
        "yhat = model.predict(xtest)\n",
        "print(yhat)"
      ],
      "metadata": {
        "colab": {
          "base_uri": "https://localhost:8080/"
        },
        "id": "qH810ElO1-3a",
        "outputId": "28d2e5e2-6d76-4944-b564-4111c474a415"
      },
      "execution_count": 72,
      "outputs": [
        {
          "output_type": "stream",
          "name": "stdout",
          "text": [
            "598/598 [==============================] - 1s 1ms/step\n",
            "[[0.12097973]\n",
            " [0.12157421]\n",
            " [0.12097973]\n",
            " ...\n",
            " [0.12097866]\n",
            " [0.12097976]\n",
            " [0.1209797 ]]\n"
          ]
        }
      ]
    },
    {
      "cell_type": "code",
      "source": [
        "metrics.mean_squared_error(ytest, yhat)"
      ],
      "metadata": {
        "colab": {
          "base_uri": "https://localhost:8080/"
        },
        "id": "OIKbWm6z2E_c",
        "outputId": "11909cac-f64b-4541-cfdb-54716a474f22"
      },
      "execution_count": 73,
      "outputs": [
        {
          "output_type": "execute_result",
          "data": {
            "text/plain": [
              "0.3436389320368015"
            ]
          },
          "metadata": {},
          "execution_count": 73
        }
      ]
    },
    {
      "cell_type": "markdown",
      "source": [
        "**Based on the outputs above, we can found that the test data MSE didn't get improved even by changing the number of neurons from 2 to 5.**"
      ],
      "metadata": {
        "id": "KkXLgqL22MIb"
      }
    },
    {
      "cell_type": "markdown",
      "source": [
        "# **Question 5**\n",
        "\n",
        "**From 2, change number of hidden layers to 2, does this improve test MSE?**"
      ],
      "metadata": {
        "id": "CFZizAOB2csl"
      }
    },
    {
      "cell_type": "code",
      "source": [
        "in_layer = Input(shape = (xtrain.shape[1],))\n",
        "dense1 = Dense(2, activation = 'tanh')(in_layer)\n",
        "dense2 = Dense(2, activation = 'tanh')(dense1)\n",
        "mu = Dense(1, activation = 'exponential')(dense2)"
      ],
      "metadata": {
        "id": "2E3f9yxV2nwp"
      },
      "execution_count": 81,
      "outputs": []
    },
    {
      "cell_type": "code",
      "source": [
        "model = Model(inputs = in_layer, outputs = mu)\n",
        "model.summary()"
      ],
      "metadata": {
        "colab": {
          "base_uri": "https://localhost:8080/"
        },
        "id": "lV3SjZA92rwc",
        "outputId": "6e203579-df3f-46f6-d5f1-8d366d991071"
      },
      "execution_count": 82,
      "outputs": [
        {
          "output_type": "stream",
          "name": "stdout",
          "text": [
            "Model: \"model_7\"\n",
            "_________________________________________________________________\n",
            " Layer (type)                Output Shape              Param #   \n",
            "=================================================================\n",
            " input_12 (InputLayer)       [(None, 3)]               0         \n",
            "                                                                 \n",
            " dense_18 (Dense)            (None, 2)                 8         \n",
            "                                                                 \n",
            " dense_19 (Dense)            (None, 2)                 6         \n",
            "                                                                 \n",
            " dense_20 (Dense)            (None, 1)                 3         \n",
            "                                                                 \n",
            "=================================================================\n",
            "Total params: 17 (68.00 Byte)\n",
            "Trainable params: 17 (68.00 Byte)\n",
            "Non-trainable params: 0 (0.00 Byte)\n",
            "_________________________________________________________________\n"
          ]
        }
      ]
    },
    {
      "cell_type": "code",
      "source": [
        "model.compile(optimizer = 'adam', loss = 'Poisson')"
      ],
      "metadata": {
        "id": "g1YsULAx2um9"
      },
      "execution_count": 83,
      "outputs": []
    },
    {
      "cell_type": "code",
      "source": [
        "model.fit(xtrain, ytrain, epochs=100, shuffle=False, batch_size=128, verbose=2)"
      ],
      "metadata": {
        "colab": {
          "base_uri": "https://localhost:8080/"
        },
        "id": "aa6t_yFO2xBn",
        "outputId": "8f96768c-45b1-4fb5-a380-6b20446a0af1"
      },
      "execution_count": 84,
      "outputs": [
        {
          "output_type": "stream",
          "name": "stdout",
          "text": [
            "Epoch 1/100\n",
            "140/140 - 1s - loss: 1.0608 - 877ms/epoch - 6ms/step\n",
            "Epoch 2/100\n",
            "140/140 - 0s - loss: 0.5857 - 203ms/epoch - 1ms/step\n",
            "Epoch 3/100\n",
            "140/140 - 0s - loss: 0.5029 - 198ms/epoch - 1ms/step\n",
            "Epoch 4/100\n",
            "140/140 - 0s - loss: 0.4681 - 200ms/epoch - 1ms/step\n",
            "Epoch 5/100\n",
            "140/140 - 0s - loss: 0.4514 - 212ms/epoch - 2ms/step\n",
            "Epoch 6/100\n",
            "140/140 - 0s - loss: 0.4434 - 225ms/epoch - 2ms/step\n",
            "Epoch 7/100\n",
            "140/140 - 0s - loss: 0.4393 - 200ms/epoch - 1ms/step\n",
            "Epoch 8/100\n",
            "140/140 - 0s - loss: 0.4372 - 209ms/epoch - 1ms/step\n",
            "Epoch 9/100\n",
            "140/140 - 0s - loss: 0.4361 - 200ms/epoch - 1ms/step\n",
            "Epoch 10/100\n",
            "140/140 - 0s - loss: 0.4356 - 203ms/epoch - 1ms/step\n",
            "Epoch 11/100\n",
            "140/140 - 0s - loss: 0.4352 - 208ms/epoch - 1ms/step\n",
            "Epoch 12/100\n",
            "140/140 - 0s - loss: 0.4350 - 200ms/epoch - 1ms/step\n",
            "Epoch 13/100\n",
            "140/140 - 0s - loss: 0.4348 - 207ms/epoch - 1ms/step\n",
            "Epoch 14/100\n",
            "140/140 - 0s - loss: 0.4346 - 204ms/epoch - 1ms/step\n",
            "Epoch 15/100\n",
            "140/140 - 0s - loss: 0.4344 - 196ms/epoch - 1ms/step\n",
            "Epoch 16/100\n",
            "140/140 - 0s - loss: 0.4342 - 213ms/epoch - 2ms/step\n",
            "Epoch 17/100\n",
            "140/140 - 0s - loss: 0.4340 - 205ms/epoch - 1ms/step\n",
            "Epoch 18/100\n",
            "140/140 - 0s - loss: 0.4338 - 198ms/epoch - 1ms/step\n",
            "Epoch 19/100\n",
            "140/140 - 0s - loss: 0.4336 - 203ms/epoch - 1ms/step\n",
            "Epoch 20/100\n",
            "140/140 - 0s - loss: 0.4334 - 194ms/epoch - 1ms/step\n",
            "Epoch 21/100\n",
            "140/140 - 0s - loss: 0.4332 - 209ms/epoch - 1ms/step\n",
            "Epoch 22/100\n",
            "140/140 - 0s - loss: 0.4330 - 199ms/epoch - 1ms/step\n",
            "Epoch 23/100\n",
            "140/140 - 0s - loss: 0.4328 - 201ms/epoch - 1ms/step\n",
            "Epoch 24/100\n",
            "140/140 - 0s - loss: 0.4326 - 203ms/epoch - 1ms/step\n",
            "Epoch 25/100\n",
            "140/140 - 0s - loss: 0.4323 - 201ms/epoch - 1ms/step\n",
            "Epoch 26/100\n",
            "140/140 - 0s - loss: 0.4320 - 212ms/epoch - 2ms/step\n",
            "Epoch 27/100\n",
            "140/140 - 0s - loss: 0.4318 - 193ms/epoch - 1ms/step\n",
            "Epoch 28/100\n",
            "140/140 - 0s - loss: 0.4316 - 206ms/epoch - 1ms/step\n",
            "Epoch 29/100\n",
            "140/140 - 0s - loss: 0.4314 - 197ms/epoch - 1ms/step\n",
            "Epoch 30/100\n",
            "140/140 - 0s - loss: 0.4312 - 197ms/epoch - 1ms/step\n",
            "Epoch 31/100\n",
            "140/140 - 0s - loss: 0.4311 - 211ms/epoch - 2ms/step\n",
            "Epoch 32/100\n",
            "140/140 - 0s - loss: 0.4310 - 196ms/epoch - 1ms/step\n",
            "Epoch 33/100\n",
            "140/140 - 0s - loss: 0.4308 - 199ms/epoch - 1ms/step\n",
            "Epoch 34/100\n",
            "140/140 - 0s - loss: 0.4307 - 201ms/epoch - 1ms/step\n",
            "Epoch 35/100\n",
            "140/140 - 0s - loss: 0.4306 - 205ms/epoch - 1ms/step\n",
            "Epoch 36/100\n",
            "140/140 - 0s - loss: 0.4305 - 204ms/epoch - 1ms/step\n",
            "Epoch 37/100\n",
            "140/140 - 0s - loss: 0.4303 - 205ms/epoch - 1ms/step\n",
            "Epoch 38/100\n",
            "140/140 - 0s - loss: 0.4302 - 200ms/epoch - 1ms/step\n",
            "Epoch 39/100\n",
            "140/140 - 0s - loss: 0.4300 - 206ms/epoch - 1ms/step\n",
            "Epoch 40/100\n",
            "140/140 - 0s - loss: 0.4299 - 197ms/epoch - 1ms/step\n",
            "Epoch 41/100\n",
            "140/140 - 0s - loss: 0.4298 - 211ms/epoch - 2ms/step\n",
            "Epoch 42/100\n",
            "140/140 - 0s - loss: 0.4296 - 237ms/epoch - 2ms/step\n",
            "Epoch 43/100\n",
            "140/140 - 0s - loss: 0.4295 - 299ms/epoch - 2ms/step\n",
            "Epoch 44/100\n",
            "140/140 - 0s - loss: 0.4295 - 285ms/epoch - 2ms/step\n",
            "Epoch 45/100\n",
            "140/140 - 0s - loss: 0.4294 - 300ms/epoch - 2ms/step\n",
            "Epoch 46/100\n",
            "140/140 - 0s - loss: 0.4293 - 309ms/epoch - 2ms/step\n",
            "Epoch 47/100\n",
            "140/140 - 0s - loss: 0.4293 - 293ms/epoch - 2ms/step\n",
            "Epoch 48/100\n",
            "140/140 - 0s - loss: 0.4292 - 300ms/epoch - 2ms/step\n",
            "Epoch 49/100\n",
            "140/140 - 0s - loss: 0.4292 - 288ms/epoch - 2ms/step\n",
            "Epoch 50/100\n",
            "140/140 - 0s - loss: 0.4291 - 296ms/epoch - 2ms/step\n",
            "Epoch 51/100\n",
            "140/140 - 0s - loss: 0.4291 - 291ms/epoch - 2ms/step\n",
            "Epoch 52/100\n",
            "140/140 - 0s - loss: 0.4291 - 206ms/epoch - 1ms/step\n",
            "Epoch 53/100\n",
            "140/140 - 0s - loss: 0.4291 - 198ms/epoch - 1ms/step\n",
            "Epoch 54/100\n",
            "140/140 - 0s - loss: 0.4290 - 201ms/epoch - 1ms/step\n",
            "Epoch 55/100\n",
            "140/140 - 0s - loss: 0.4290 - 198ms/epoch - 1ms/step\n",
            "Epoch 56/100\n",
            "140/140 - 0s - loss: 0.4290 - 196ms/epoch - 1ms/step\n",
            "Epoch 57/100\n",
            "140/140 - 0s - loss: 0.4290 - 214ms/epoch - 2ms/step\n",
            "Epoch 58/100\n",
            "140/140 - 0s - loss: 0.4289 - 198ms/epoch - 1ms/step\n",
            "Epoch 59/100\n",
            "140/140 - 0s - loss: 0.4287 - 198ms/epoch - 1ms/step\n",
            "Epoch 60/100\n",
            "140/140 - 0s - loss: 0.4286 - 201ms/epoch - 1ms/step\n",
            "Epoch 61/100\n",
            "140/140 - 0s - loss: 0.4285 - 204ms/epoch - 1ms/step\n",
            "Epoch 62/100\n",
            "140/140 - 0s - loss: 0.4285 - 209ms/epoch - 1ms/step\n",
            "Epoch 63/100\n",
            "140/140 - 0s - loss: 0.4284 - 201ms/epoch - 1ms/step\n",
            "Epoch 64/100\n",
            "140/140 - 0s - loss: 0.4284 - 193ms/epoch - 1ms/step\n",
            "Epoch 65/100\n",
            "140/140 - 0s - loss: 0.4284 - 195ms/epoch - 1ms/step\n",
            "Epoch 66/100\n",
            "140/140 - 0s - loss: 0.4284 - 197ms/epoch - 1ms/step\n",
            "Epoch 67/100\n",
            "140/140 - 0s - loss: 0.4283 - 211ms/epoch - 2ms/step\n",
            "Epoch 68/100\n",
            "140/140 - 0s - loss: 0.4283 - 203ms/epoch - 1ms/step\n",
            "Epoch 69/100\n",
            "140/140 - 0s - loss: 0.4283 - 200ms/epoch - 1ms/step\n",
            "Epoch 70/100\n",
            "140/140 - 0s - loss: 0.4283 - 204ms/epoch - 1ms/step\n",
            "Epoch 71/100\n",
            "140/140 - 0s - loss: 0.4283 - 204ms/epoch - 1ms/step\n",
            "Epoch 72/100\n",
            "140/140 - 0s - loss: 0.4283 - 217ms/epoch - 2ms/step\n",
            "Epoch 73/100\n",
            "140/140 - 0s - loss: 0.4283 - 205ms/epoch - 1ms/step\n",
            "Epoch 74/100\n",
            "140/140 - 0s - loss: 0.4282 - 200ms/epoch - 1ms/step\n",
            "Epoch 75/100\n",
            "140/140 - 0s - loss: 0.4282 - 200ms/epoch - 1ms/step\n",
            "Epoch 76/100\n",
            "140/140 - 0s - loss: 0.4282 - 196ms/epoch - 1ms/step\n",
            "Epoch 77/100\n",
            "140/140 - 0s - loss: 0.4282 - 213ms/epoch - 2ms/step\n",
            "Epoch 78/100\n",
            "140/140 - 0s - loss: 0.4282 - 198ms/epoch - 1ms/step\n",
            "Epoch 79/100\n",
            "140/140 - 0s - loss: 0.4282 - 200ms/epoch - 1ms/step\n",
            "Epoch 80/100\n",
            "140/140 - 0s - loss: 0.4282 - 201ms/epoch - 1ms/step\n",
            "Epoch 81/100\n",
            "140/140 - 0s - loss: 0.4282 - 195ms/epoch - 1ms/step\n",
            "Epoch 82/100\n",
            "140/140 - 0s - loss: 0.4282 - 214ms/epoch - 2ms/step\n",
            "Epoch 83/100\n",
            "140/140 - 0s - loss: 0.4282 - 200ms/epoch - 1ms/step\n",
            "Epoch 84/100\n",
            "140/140 - 0s - loss: 0.4281 - 202ms/epoch - 1ms/step\n",
            "Epoch 85/100\n",
            "140/140 - 0s - loss: 0.4281 - 207ms/epoch - 1ms/step\n",
            "Epoch 86/100\n",
            "140/140 - 0s - loss: 0.4281 - 200ms/epoch - 1ms/step\n",
            "Epoch 87/100\n",
            "140/140 - 0s - loss: 0.4281 - 210ms/epoch - 1ms/step\n",
            "Epoch 88/100\n",
            "140/140 - 0s - loss: 0.4281 - 204ms/epoch - 1ms/step\n",
            "Epoch 89/100\n",
            "140/140 - 0s - loss: 0.4281 - 203ms/epoch - 1ms/step\n",
            "Epoch 90/100\n",
            "140/140 - 0s - loss: 0.4281 - 204ms/epoch - 1ms/step\n",
            "Epoch 91/100\n",
            "140/140 - 0s - loss: 0.4281 - 212ms/epoch - 2ms/step\n",
            "Epoch 92/100\n",
            "140/140 - 0s - loss: 0.4281 - 219ms/epoch - 2ms/step\n",
            "Epoch 93/100\n",
            "140/140 - 0s - loss: 0.4281 - 202ms/epoch - 1ms/step\n",
            "Epoch 94/100\n",
            "140/140 - 0s - loss: 0.4281 - 202ms/epoch - 1ms/step\n",
            "Epoch 95/100\n",
            "140/140 - 0s - loss: 0.4281 - 200ms/epoch - 1ms/step\n",
            "Epoch 96/100\n",
            "140/140 - 0s - loss: 0.4281 - 198ms/epoch - 1ms/step\n",
            "Epoch 97/100\n",
            "140/140 - 0s - loss: 0.4281 - 218ms/epoch - 2ms/step\n",
            "Epoch 98/100\n",
            "140/140 - 0s - loss: 0.4281 - 196ms/epoch - 1ms/step\n",
            "Epoch 99/100\n",
            "140/140 - 0s - loss: 0.4280 - 206ms/epoch - 1ms/step\n",
            "Epoch 100/100\n",
            "140/140 - 0s - loss: 0.4280 - 321ms/epoch - 2ms/step\n"
          ]
        },
        {
          "output_type": "execute_result",
          "data": {
            "text/plain": [
              "<keras.src.callbacks.History at 0x7c2dceece980>"
            ]
          },
          "metadata": {},
          "execution_count": 84
        }
      ]
    },
    {
      "cell_type": "code",
      "source": [
        "xtest = test[xnames]\n",
        "ytest = test[ynames]\n",
        "yhat = model.predict(xtest)\n",
        "print(yhat)"
      ],
      "metadata": {
        "colab": {
          "base_uri": "https://localhost:8080/"
        },
        "id": "B--O8bcV3ZTu",
        "outputId": "1e808b8c-c82f-4513-a34b-58216627d875"
      },
      "execution_count": 85,
      "outputs": [
        {
          "output_type": "stream",
          "name": "stdout",
          "text": [
            "598/598 [==============================] - 1s 2ms/step\n",
            "[[0.11792786]\n",
            " [0.12025871]\n",
            " [0.11792786]\n",
            " ...\n",
            " [0.11792786]\n",
            " [0.11792822]\n",
            " [0.11792786]]\n"
          ]
        }
      ]
    },
    {
      "cell_type": "code",
      "source": [
        "metrics.mean_squared_error(ytest, yhat)"
      ],
      "metadata": {
        "colab": {
          "base_uri": "https://localhost:8080/"
        },
        "id": "vcF0W4G83by1",
        "outputId": "5726b9fa-e89c-4bc1-a6ac-48422f5264d3"
      },
      "execution_count": 86,
      "outputs": [
        {
          "output_type": "execute_result",
          "data": {
            "text/plain": [
              "0.34452408300512094"
            ]
          },
          "metadata": {},
          "execution_count": 86
        }
      ]
    },
    {
      "cell_type": "markdown",
      "source": [
        "**The test data MSE equals to 0.3445, we can conclude that adding one more hidden layer doesn't help us improve the test MSE.**"
      ],
      "metadata": {
        "id": "g0e8yrWn4DiS"
      }
    }
  ]
}